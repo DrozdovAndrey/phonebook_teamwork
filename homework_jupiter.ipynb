{
 "cells": [
  {
   "cell_type": "markdown",
   "id": "e3fad3b1",
   "metadata": {},
   "source": [
    "Дана функция f(x) = (sin(x)/2 + cos(x)/2)^2 * sin(x)\n",
    "\n",
    "1.Определить корни\n",
    "\n",
    "2.Найти интервалы, на которых функция возрастает\n",
    "\n",
    "3.Найти интервалы, на которых функция убывает\n",
    "\n",
    "4.Построить график\n",
    "\n",
    "5.Вычислить вершину\n",
    "\n",
    "Определить промежутки, на котором f > 0\n",
    "\n",
    "Определить промежутки, на котором f < 0\n",
    "\n",
    "Решения пишите в jupiter notebook, сохраняйте и загружайте в гит.\n",
    "ДЗ отправляйте в виде ссылки на гит-репозиторий, файлами не шлите!\n"
   ]
  },
  {
   "cell_type": "code",
   "execution_count": 11,
   "id": "ff699b58",
   "metadata": {},
   "outputs": [
    {
     "name": "stdout",
     "output_type": "stream",
     "text": [
      "[-pi/4, 0, 3*pi/4, pi]\n"
     ]
    }
   ],
   "source": [
    "from sympy import *\n",
    "#1.Определить корни\n",
    "x = Symbol('x')\n",
    "y = (sin(x)/2 + cos(x)/2)**2 * sin(x)\n",
    "list_y = solve(y, x)\n",
    "list_y = sorted(list_y)\n",
    "print(list_y)"
   ]
  },
  {
   "cell_type": "code",
   "execution_count": null,
   "id": "ca853805",
   "metadata": {},
   "outputs": [],
   "source": []
  },
  {
   "cell_type": "code",
   "execution_count": 12,
   "id": "233bcebe",
   "metadata": {
    "scrolled": true
   },
   "outputs": [
    {
     "name": "stdout",
     "output_type": "stream",
     "text": [
      "(-sin(x) + cos(x))*(sin(x)/2 + cos(x)/2)*sin(x) + (sin(x)/2 + cos(x)/2)**2*cos(x)\n",
      "1/4\n",
      "1/4\n",
      "1. Функция возрастает на промежутке -2*atan(-3/2 + sqrt(6)*sqrt(5 - sqrt(17))/2 + sqrt(17)/2) : -pi/4.\n",
      "2. Функция убывает на промежутке -pi/4 : 2*atan(-sqrt(6)*sqrt(sqrt(17) + 5)/2 + 3/2 + sqrt(17)/2).\n",
      "3. Функция возрастает на промежутке 2*atan(-sqrt(6)*sqrt(sqrt(17) + 5)/2 + 3/2 + sqrt(17)/2) : 2*atan(-sqrt(17)/2 + sqrt(6)*sqrt(5 - sqrt(17))/2 + 3/2).\n",
      "4. Функция убывает на промежутке 2*atan(-sqrt(17)/2 + sqrt(6)*sqrt(5 - sqrt(17))/2 + 3/2) : 3*pi/4.\n",
      "5. Функция возрастает на промежутке 3*pi/4 : 2*atan(3/2 + sqrt(17)/2 + sqrt(6)*sqrt(sqrt(17) + 5)/2).\n",
      "6. Функция убывает на промежутке 2*atan(3/2 + sqrt(17)/2 + sqrt(6)*sqrt(sqrt(17) + 5)/2) : -2*atan(-3/2 + sqrt(6)*sqrt(5 - sqrt(17))/2 + sqrt(17)/2) + 2*pi.\n"
     ]
    }
   ],
   "source": [
    "#2,3.Найти интервалы, на которых функция возрастает и убывает\n",
    "# - находим экстремумы\n",
    "x = Symbol('x')\n",
    "y = (sin(x)/2 + cos(x)/2)**2 * sin(x)\n",
    "dif = diff(y,x)\n",
    "print(dif)\n",
    "l_dif = solve(dif, x)\n",
    "l_dif = sorted(l_dif)\n",
    "#Находим периоды:\n",
    "t = pi\n",
    "while True:\n",
    "    a_1 = dif.subs(x, 0)\n",
    "    a_2 = dif.subs(x, 0+t)\n",
    "    print(a_1)\n",
    "    if a_1 == a_2:\n",
    "        break\n",
    "    else:\n",
    "        t+=pi        \n",
    "point = l_dif[0] + t\n",
    "l_diff_1 = l_dif[:]\n",
    "l_diff_1.append(point)\n",
    "l_diff_1 = sorted(l_diff_1)\n",
    "for i in range(1, len(l_diff_1)):\n",
    "    a_1 = y.subs(x,l_diff_1[i-1] + 0.000001)\n",
    "    a_2 = y.subs(x,l_diff_1[i] - 0.000001)\n",
    "    if a_1 < a_2:\n",
    "        print(f'{i}. Функция возрастает на промежутке {l_diff_1[i-1]} : {l_diff_1[i]}.')\n",
    "    else:\n",
    "        print(f'{i}. Функция убывает на промежутке {l_diff_1[i-1]} : {l_diff_1[i]}.')\n"
   ]
  },
  {
   "cell_type": "code",
   "execution_count": 13,
   "id": "03e93704",
   "metadata": {
    "scrolled": true
   },
   "outputs": [
    {
     "name": "stdout",
     "output_type": "stream",
     "text": [
      "    0.4 |             .                .                .       \n",
      "        |                                              .        \n",
      "        |            .                .                         \n",
      "        |              .                .                .      \n",
      "        |                                                       \n",
      "        |                                                       \n",
      "        |           .                .                .         \n",
      "        |               .                .                .     \n",
      "        |                                                       \n",
      "        | .                .                .                .  \n",
      "  0.005 |/-------.-.-----..-------.-.-----..-------.-.-----..---\n",
      "        |       . .              . .              . .           \n",
      "        |  .                .                .                . \n",
      "        |                                                       \n",
      "        |                                                       \n",
      "        |      .                .                .              \n",
      "        |   .                .                                  \n",
      "        |                                     .                .\n",
      "        |                                                       \n",
      "        |                      .                .               \n",
      "  -0.39 |_______________________________________________________\n",
      "         -10                        0                          10\n",
      "Plot object containing:\n",
      "[0]: cartesian line: (sin(x)/2 + cos(x)/2)**2*sin(x) for x over (-10.0, 10.0)\n"
     ]
    }
   ],
   "source": [
    "#4. Построить график\n",
    "print(plot(y))\n"
   ]
  },
  {
   "cell_type": "code",
   "execution_count": 14,
   "id": "9d255acb",
   "metadata": {},
   "outputs": [
    {
     "name": "stdout",
     "output_type": "stream",
     "text": [
      "Вершина функции: x = -2*atan(-3/2 + sqrt(6)*sqrt(5 - sqrt(17))/2 + sqrt(17)/2), y = -(-sin(2*atan(-3/2 + sqrt(6)*sqrt(5 - sqrt(17))/2 + sqrt(17)/2))/2 + cos(2*atan(-3/2 + sqrt(6)*sqrt(5 - sqrt(17))/2 + sqrt(17)/2))/2)**2*sin(2*atan(-3/2 + sqrt(6)*sqrt(5 - sqrt(17))/2 + sqrt(17)/2))\n",
      "Вершина функции: x = -pi/4, y = 0\n",
      "Вершина функции: x = 2*atan(-sqrt(6)*sqrt(sqrt(17) + 5)/2 + 3/2 + sqrt(17)/2), y = (sin(2*atan(-sqrt(6)*sqrt(sqrt(17) + 5)/2 + 3/2 + sqrt(17)/2))/2 + cos(2*atan(-sqrt(6)*sqrt(sqrt(17) + 5)/2 + 3/2 + sqrt(17)/2))/2)**2*sin(2*atan(-sqrt(6)*sqrt(sqrt(17) + 5)/2 + 3/2 + sqrt(17)/2))\n",
      "Вершина функции: x = 2*atan(-sqrt(17)/2 + sqrt(6)*sqrt(5 - sqrt(17))/2 + 3/2), y = (cos(2*atan(-sqrt(17)/2 + sqrt(6)*sqrt(5 - sqrt(17))/2 + 3/2))/2 + sin(2*atan(-sqrt(17)/2 + sqrt(6)*sqrt(5 - sqrt(17))/2 + 3/2))/2)**2*sin(2*atan(-sqrt(17)/2 + sqrt(6)*sqrt(5 - sqrt(17))/2 + 3/2))\n",
      "Вершина функции: x = 3*pi/4, y = 0\n",
      "Вершина функции: x = 2*atan(3/2 + sqrt(17)/2 + sqrt(6)*sqrt(sqrt(17) + 5)/2), y = (cos(2*atan(3/2 + sqrt(17)/2 + sqrt(6)*sqrt(sqrt(17) + 5)/2))/2 + sin(2*atan(3/2 + sqrt(17)/2 + sqrt(6)*sqrt(sqrt(17) + 5)/2))/2)**2*sin(2*atan(3/2 + sqrt(17)/2 + sqrt(6)*sqrt(sqrt(17) + 5)/2))\n"
     ]
    }
   ],
   "source": [
    "#5.Вычислить вершину\n",
    "for diff in l_dif:\n",
    "    point = y.subs(x, diff)\n",
    "    print(f'Вершина функции: x = {diff}, y = {point}')\n"
   ]
  },
  {
   "cell_type": "code",
   "execution_count": 15,
   "id": "bce3e04d",
   "metadata": {},
   "outputs": [
    {
     "name": "stdout",
     "output_type": "stream",
     "text": [
      "1. Функция на промежутке -pi/4 : 0 < 0.\n",
      "2. Функция на промежутке 0 : 3*pi/4 > 0.\n",
      "3. Функция на промежутке 3*pi/4 : pi > 0.\n",
      "4. Функция на промежутке pi : 7*pi/4 < 0.\n"
     ]
    }
   ],
   "source": [
    "#Определить промежутки, на котором f > 0\n",
    "#Определить промежутки, на котором f < 0\n",
    "t = pi\n",
    "while True:\n",
    "    a_1 = y.subs(x, 1)\n",
    "    a_2 = y.subs(x, 1+t)\n",
    "    if a_1 == a_2:\n",
    "        break\n",
    "    else:\n",
    "        t += pi        \n",
    "point_plus = list_y[0] +t\n",
    "lst_zero = list_y[:]\n",
    "lst_zero.append(point_plus)\n",
    "for i in range(1, len(lst_zero)):\n",
    "    point = lst_zero[i-1]\n",
    "    if y.subs(x, point + 0.0000001) > 0:\n",
    "        print(f'{i}. Функция на промежутке {lst_zero[i-1]} : {lst_zero[i]} > 0.')\n",
    "    else:\n",
    "        print(f'{i}. Функция на промежутке {lst_zero[i-1]} : {lst_zero[i]} < 0.')\n"
   ]
  },
  {
   "cell_type": "code",
   "execution_count": null,
   "id": "c26d753e",
   "metadata": {},
   "outputs": [],
   "source": []
  }
 ],
 "metadata": {
  "kernelspec": {
   "display_name": "Python 3.10.6 64-bit (system)",
   "language": "python",
   "name": "python3"
  },
  "language_info": {
   "codemirror_mode": {
    "name": "ipython",
    "version": 3
   },
   "file_extension": ".py",
   "mimetype": "text/x-python",
   "name": "python",
   "nbconvert_exporter": "python",
   "pygments_lexer": "ipython3",
   "version": "3.10.6"
  },
  "vscode": {
   "interpreter": {
    "hash": "b382e49af45b32b9c244e228c2040fb069510ba30aabe894f1867757942ccf2d"
   }
  }
 },
 "nbformat": 4,
 "nbformat_minor": 5
}
